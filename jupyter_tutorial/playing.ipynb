{
 "cells": [
  {
   "cell_type": "code",
   "execution_count": 13,
   "id": "043b7de6-8976-43ec-bff9-99c9095d2459",
   "metadata": {},
   "outputs": [],
   "source": [
    "import hellow\n"
   ]
  },
  {
   "cell_type": "code",
   "execution_count": 14,
   "id": "4cd16663-c778-4f5c-ad20-292fcea8ec6c",
   "metadata": {},
   "outputs": [
    {
     "data": {
      "text/plain": [
       "'hw'"
      ]
     },
     "execution_count": 14,
     "metadata": {},
     "output_type": "execute_result"
    }
   ],
   "source": [
    "hellow.s"
   ]
  },
  {
   "cell_type": "code",
   "execution_count": 15,
   "id": "97a3ba31-548a-4335-a72d-2f27144fee33",
   "metadata": {},
   "outputs": [],
   "source": [
    "import time\n",
    "time.sleep(10)\n",
    "# note that the kernel circle will be"
   ]
  },
  {
   "cell_type": "markdown",
   "id": "1bb61f40-07d3-4494-9b8d-589e848a9ad1",
   "metadata": {},
   "source": [
    "# Heading\n",
    "some test\n",
    "## subheading\n",
    "some text\n",
    "- one\n",
    "- two\n",
    "\n",
    "1.a\n",
    "2.b\n",
    "3.c\n"
   ]
  },
  {
   "cell_type": "markdown",
   "id": "83842ffd-0967-443d-a9f9-495aec228f01",
   "metadata": {},
   "source": [
    "# using latex, you can do equations with markdown\n",
    "$$\n",
    "e^x = \\sum_{i=0}^{\\infty} \\frac{x^i}{i!}\n",
    "$$"
   ]
  },
  {
   "cell_type": "markdown",
   "id": "9c6feaa3-32ab-4ed6-9dba-edfe608e297f",
   "metadata": {},
   "source": [
    "# also inline equation with markdown\n",
    "This is inline: $i^4$."
   ]
  },
  {
   "cell_type": "code",
   "execution_count": 17,
   "id": "702067d9-b3ea-45fc-b445-eb1410efa5b7",
   "metadata": {},
   "outputs": [
    {
     "data": {
      "text/plain": [
       "'hellow.s'"
      ]
     },
     "execution_count": 17,
     "metadata": {},
     "output_type": "execute_result"
    }
   ],
   "source": [
    "# last output\n",
    "_"
   ]
  },
  {
   "cell_type": "code",
   "execution_count": 18,
   "id": "0a8b0782-66c9-4d4d-8ec2-fdd1f1ef8d2b",
   "metadata": {},
   "outputs": [
    {
     "data": {
      "text/plain": [
       "'hw'"
      ]
     },
     "execution_count": 18,
     "metadata": {},
     "output_type": "execute_result"
    }
   ],
   "source": [
    "# output of cell \n",
    "_14"
   ]
  },
  {
   "cell_type": "code",
   "execution_count": 19,
   "id": "ed7ce071-005c-4949-8a38-c5d3fab754cb",
   "metadata": {},
   "outputs": [
    {
     "data": {
      "text/plain": [
       "'hw'"
      ]
     },
     "execution_count": 19,
     "metadata": {},
     "output_type": "execute_result"
    }
   ],
   "source": [
    "Out[14]"
   ]
  },
  {
   "cell_type": "code",
   "execution_count": 20,
   "id": "34142d46-5f6f-4223-b574-f38d7ebc49c3",
   "metadata": {},
   "outputs": [
    {
     "data": {
      "text/plain": [
       "'hellow.s'"
      ]
     },
     "execution_count": 20,
     "metadata": {},
     "output_type": "execute_result"
    }
   ],
   "source": [
    "# input of cell 14\n",
    "In[14]"
   ]
  },
  {
   "cell_type": "code",
   "execution_count": 21,
   "id": "2d293aed-fe0f-4381-9654-926cbf381bdc",
   "metadata": {},
   "outputs": [
    {
     "name": "stdout",
     "output_type": "stream",
     "text": [
      "/c/Users/Sandra Karcher/OneDrive/adell/repos/ncar_python_tutorial/jupyter_tutorial\n"
     ]
    }
   ],
   "source": [
    "!pwd\n"
   ]
  },
  {
   "cell_type": "code",
   "execution_count": 28,
   "id": "0a2832c8-6fe1-43a2-83b3-dbcf504effdb",
   "metadata": {},
   "outputs": [
    {
     "name": "stdout",
     "output_type": "stream",
     "text": [
      "['__pycache__', 'hellow.py', 'playing.ipynb']\n"
     ]
    }
   ],
   "source": [
    "files = !ls\n",
    "print(files)"
   ]
  },
  {
   "cell_type": "code",
   "execution_count": 29,
   "id": "6a400998-8a82-4f5e-896d-619845c81dc0",
   "metadata": {},
   "outputs": [],
   "source": [
    "time.sleep(1)"
   ]
  },
  {
   "cell_type": "code",
   "execution_count": 30,
   "id": "622e05c6-18f5-40f8-885c-e7a550da82e3",
   "metadata": {},
   "outputs": [
    {
     "name": "stdout",
     "output_type": "stream",
     "text": [
      "1 s ± 180 μs per loop (mean ± std. dev. of 7 runs, 1 loop each)\n"
     ]
    }
   ],
   "source": [
    "# magics (will run a few times and give statistics...)\n",
    "%timeit time.sleep(1)"
   ]
  },
  {
   "cell_type": "code",
   "execution_count": 32,
   "id": "99ec3c64-b657-41e7-883d-905a48720a26",
   "metadata": {},
   "outputs": [
    {
     "name": "stdout",
     "output_type": "stream",
     "text": [
      "1 s ± 258 μs per loop (mean ± std. dev. of 7 runs, 1 loop each)\n"
     ]
    }
   ],
   "source": [
    "%%timeit\n",
    "\n",
    "time.sleep(.5)\n",
    "time.sleep(.5)"
   ]
  },
  {
   "cell_type": "code",
   "execution_count": null,
   "id": "a43d8672-942d-4aa5-a81a-27a5174b0618",
   "metadata": {},
   "outputs": [],
   "source": []
  }
 ],
 "metadata": {
  "kernelspec": {
   "display_name": "Python 3 (ipykernel)",
   "language": "python",
   "name": "python3"
  },
  "language_info": {
   "codemirror_mode": {
    "name": "ipython",
    "version": 3
   },
   "file_extension": ".py",
   "mimetype": "text/x-python",
   "name": "python",
   "nbconvert_exporter": "python",
   "pygments_lexer": "ipython3",
   "version": "3.11.9"
  }
 },
 "nbformat": 4,
 "nbformat_minor": 5
}
